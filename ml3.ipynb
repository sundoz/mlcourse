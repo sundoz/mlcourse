{
 "cells": [
  {
   "cell_type": "markdown",
   "metadata": {},
   "source": [
    "# Lection 3"
   ]
  },
  {
   "cell_type": "code",
   "execution_count": 50,
   "metadata": {},
   "outputs": [],
   "source": [
    "import pandas as pd\n",
    "from matplotlib import pyplot as plt\n",
    "\n",
    "import seaborn as sns"
   ]
  },
  {
   "cell_type": "code",
   "execution_count": 51,
   "metadata": {},
   "outputs": [],
   "source": [
    "df = pd.read_csv('./data/telecom_churn.csv')"
   ]
  },
  {
   "cell_type": "code",
   "execution_count": 52,
   "metadata": {},
   "outputs": [
    {
     "data": {
      "text/html": [
       "<div>\n",
       "<style scoped>\n",
       "    .dataframe tbody tr th:only-of-type {\n",
       "        vertical-align: middle;\n",
       "    }\n",
       "\n",
       "    .dataframe tbody tr th {\n",
       "        vertical-align: top;\n",
       "    }\n",
       "\n",
       "    .dataframe thead th {\n",
       "        text-align: right;\n",
       "    }\n",
       "</style>\n",
       "<table border=\"1\" class=\"dataframe\">\n",
       "  <thead>\n",
       "    <tr style=\"text-align: right;\">\n",
       "      <th></th>\n",
       "      <th>State</th>\n",
       "      <th>Account length</th>\n",
       "      <th>Area code</th>\n",
       "      <th>International plan</th>\n",
       "      <th>Voice mail plan</th>\n",
       "      <th>Number vmail messages</th>\n",
       "      <th>Total day minutes</th>\n",
       "      <th>Total day calls</th>\n",
       "      <th>Total day charge</th>\n",
       "      <th>Total eve minutes</th>\n",
       "      <th>Total eve calls</th>\n",
       "      <th>Total eve charge</th>\n",
       "      <th>Total night minutes</th>\n",
       "      <th>Total night calls</th>\n",
       "      <th>Total night charge</th>\n",
       "      <th>Total intl minutes</th>\n",
       "      <th>Total intl calls</th>\n",
       "      <th>Total intl charge</th>\n",
       "      <th>Customer service calls</th>\n",
       "      <th>Churn</th>\n",
       "    </tr>\n",
       "  </thead>\n",
       "  <tbody>\n",
       "    <tr>\n",
       "      <th>0</th>\n",
       "      <td>KS</td>\n",
       "      <td>128</td>\n",
       "      <td>415</td>\n",
       "      <td>No</td>\n",
       "      <td>Yes</td>\n",
       "      <td>25</td>\n",
       "      <td>265.1</td>\n",
       "      <td>110</td>\n",
       "      <td>45.07</td>\n",
       "      <td>197.4</td>\n",
       "      <td>99</td>\n",
       "      <td>16.78</td>\n",
       "      <td>244.7</td>\n",
       "      <td>91</td>\n",
       "      <td>11.01</td>\n",
       "      <td>10.0</td>\n",
       "      <td>3</td>\n",
       "      <td>2.70</td>\n",
       "      <td>1</td>\n",
       "      <td>False</td>\n",
       "    </tr>\n",
       "    <tr>\n",
       "      <th>1</th>\n",
       "      <td>OH</td>\n",
       "      <td>107</td>\n",
       "      <td>415</td>\n",
       "      <td>No</td>\n",
       "      <td>Yes</td>\n",
       "      <td>26</td>\n",
       "      <td>161.6</td>\n",
       "      <td>123</td>\n",
       "      <td>27.47</td>\n",
       "      <td>195.5</td>\n",
       "      <td>103</td>\n",
       "      <td>16.62</td>\n",
       "      <td>254.4</td>\n",
       "      <td>103</td>\n",
       "      <td>11.45</td>\n",
       "      <td>13.7</td>\n",
       "      <td>3</td>\n",
       "      <td>3.70</td>\n",
       "      <td>1</td>\n",
       "      <td>False</td>\n",
       "    </tr>\n",
       "    <tr>\n",
       "      <th>2</th>\n",
       "      <td>NJ</td>\n",
       "      <td>137</td>\n",
       "      <td>415</td>\n",
       "      <td>No</td>\n",
       "      <td>No</td>\n",
       "      <td>0</td>\n",
       "      <td>243.4</td>\n",
       "      <td>114</td>\n",
       "      <td>41.38</td>\n",
       "      <td>121.2</td>\n",
       "      <td>110</td>\n",
       "      <td>10.30</td>\n",
       "      <td>162.6</td>\n",
       "      <td>104</td>\n",
       "      <td>7.32</td>\n",
       "      <td>12.2</td>\n",
       "      <td>5</td>\n",
       "      <td>3.29</td>\n",
       "      <td>0</td>\n",
       "      <td>False</td>\n",
       "    </tr>\n",
       "    <tr>\n",
       "      <th>3</th>\n",
       "      <td>OH</td>\n",
       "      <td>84</td>\n",
       "      <td>408</td>\n",
       "      <td>Yes</td>\n",
       "      <td>No</td>\n",
       "      <td>0</td>\n",
       "      <td>299.4</td>\n",
       "      <td>71</td>\n",
       "      <td>50.90</td>\n",
       "      <td>61.9</td>\n",
       "      <td>88</td>\n",
       "      <td>5.26</td>\n",
       "      <td>196.9</td>\n",
       "      <td>89</td>\n",
       "      <td>8.86</td>\n",
       "      <td>6.6</td>\n",
       "      <td>7</td>\n",
       "      <td>1.78</td>\n",
       "      <td>2</td>\n",
       "      <td>False</td>\n",
       "    </tr>\n",
       "    <tr>\n",
       "      <th>4</th>\n",
       "      <td>OK</td>\n",
       "      <td>75</td>\n",
       "      <td>415</td>\n",
       "      <td>Yes</td>\n",
       "      <td>No</td>\n",
       "      <td>0</td>\n",
       "      <td>166.7</td>\n",
       "      <td>113</td>\n",
       "      <td>28.34</td>\n",
       "      <td>148.3</td>\n",
       "      <td>122</td>\n",
       "      <td>12.61</td>\n",
       "      <td>186.9</td>\n",
       "      <td>121</td>\n",
       "      <td>8.41</td>\n",
       "      <td>10.1</td>\n",
       "      <td>3</td>\n",
       "      <td>2.73</td>\n",
       "      <td>3</td>\n",
       "      <td>False</td>\n",
       "    </tr>\n",
       "  </tbody>\n",
       "</table>\n",
       "</div>"
      ],
      "text/plain": [
       "  State  Account length  Area code International plan Voice mail plan  \\\n",
       "0    KS             128        415                 No             Yes   \n",
       "1    OH             107        415                 No             Yes   \n",
       "2    NJ             137        415                 No              No   \n",
       "3    OH              84        408                Yes              No   \n",
       "4    OK              75        415                Yes              No   \n",
       "\n",
       "   Number vmail messages  Total day minutes  Total day calls  \\\n",
       "0                     25              265.1              110   \n",
       "1                     26              161.6              123   \n",
       "2                      0              243.4              114   \n",
       "3                      0              299.4               71   \n",
       "4                      0              166.7              113   \n",
       "\n",
       "   Total day charge  Total eve minutes  Total eve calls  Total eve charge  \\\n",
       "0             45.07              197.4               99             16.78   \n",
       "1             27.47              195.5              103             16.62   \n",
       "2             41.38              121.2              110             10.30   \n",
       "3             50.90               61.9               88              5.26   \n",
       "4             28.34              148.3              122             12.61   \n",
       "\n",
       "   Total night minutes  Total night calls  Total night charge  \\\n",
       "0                244.7                 91               11.01   \n",
       "1                254.4                103               11.45   \n",
       "2                162.6                104                7.32   \n",
       "3                196.9                 89                8.86   \n",
       "4                186.9                121                8.41   \n",
       "\n",
       "   Total intl minutes  Total intl calls  Total intl charge  \\\n",
       "0                10.0                 3               2.70   \n",
       "1                13.7                 3               3.70   \n",
       "2                12.2                 5               3.29   \n",
       "3                 6.6                 7               1.78   \n",
       "4                10.1                 3               2.73   \n",
       "\n",
       "   Customer service calls  Churn  \n",
       "0                       1  False  \n",
       "1                       1  False  \n",
       "2                       0  False  \n",
       "3                       2  False  \n",
       "4                       3  False  "
      ]
     },
     "execution_count": 52,
     "metadata": {},
     "output_type": "execute_result"
    }
   ],
   "source": [
    "df.head()"
   ]
  },
  {
   "cell_type": "code",
   "execution_count": 53,
   "metadata": {},
   "outputs": [],
   "source": [
    "df['International plan'] = df['International plan'].map({'Yes': 1, 'No': 0})\n",
    "df['Voice mail plan'] = df['Voice mail plan'].map({'Yes': 1, 'No': 0})"
   ]
  },
  {
   "cell_type": "code",
   "execution_count": 54,
   "metadata": {},
   "outputs": [
    {
     "data": {
      "text/html": [
       "<div>\n",
       "<style scoped>\n",
       "    .dataframe tbody tr th:only-of-type {\n",
       "        vertical-align: middle;\n",
       "    }\n",
       "\n",
       "    .dataframe tbody tr th {\n",
       "        vertical-align: top;\n",
       "    }\n",
       "\n",
       "    .dataframe thead th {\n",
       "        text-align: right;\n",
       "    }\n",
       "</style>\n",
       "<table border=\"1\" class=\"dataframe\">\n",
       "  <thead>\n",
       "    <tr style=\"text-align: right;\">\n",
       "      <th></th>\n",
       "      <th>State</th>\n",
       "      <th>Account length</th>\n",
       "      <th>Area code</th>\n",
       "      <th>International plan</th>\n",
       "      <th>Voice mail plan</th>\n",
       "      <th>Number vmail messages</th>\n",
       "      <th>Total day minutes</th>\n",
       "      <th>Total day calls</th>\n",
       "      <th>Total day charge</th>\n",
       "      <th>Total eve minutes</th>\n",
       "      <th>Total eve calls</th>\n",
       "      <th>Total eve charge</th>\n",
       "      <th>Total night minutes</th>\n",
       "      <th>Total night calls</th>\n",
       "      <th>Total night charge</th>\n",
       "      <th>Total intl minutes</th>\n",
       "      <th>Total intl calls</th>\n",
       "      <th>Total intl charge</th>\n",
       "      <th>Customer service calls</th>\n",
       "      <th>Churn</th>\n",
       "    </tr>\n",
       "  </thead>\n",
       "  <tbody>\n",
       "    <tr>\n",
       "      <th>0</th>\n",
       "      <td>KS</td>\n",
       "      <td>128</td>\n",
       "      <td>415</td>\n",
       "      <td>0</td>\n",
       "      <td>1</td>\n",
       "      <td>25</td>\n",
       "      <td>265.1</td>\n",
       "      <td>110</td>\n",
       "      <td>45.07</td>\n",
       "      <td>197.4</td>\n",
       "      <td>99</td>\n",
       "      <td>16.78</td>\n",
       "      <td>244.7</td>\n",
       "      <td>91</td>\n",
       "      <td>11.01</td>\n",
       "      <td>10.0</td>\n",
       "      <td>3</td>\n",
       "      <td>2.70</td>\n",
       "      <td>1</td>\n",
       "      <td>False</td>\n",
       "    </tr>\n",
       "    <tr>\n",
       "      <th>1</th>\n",
       "      <td>OH</td>\n",
       "      <td>107</td>\n",
       "      <td>415</td>\n",
       "      <td>0</td>\n",
       "      <td>1</td>\n",
       "      <td>26</td>\n",
       "      <td>161.6</td>\n",
       "      <td>123</td>\n",
       "      <td>27.47</td>\n",
       "      <td>195.5</td>\n",
       "      <td>103</td>\n",
       "      <td>16.62</td>\n",
       "      <td>254.4</td>\n",
       "      <td>103</td>\n",
       "      <td>11.45</td>\n",
       "      <td>13.7</td>\n",
       "      <td>3</td>\n",
       "      <td>3.70</td>\n",
       "      <td>1</td>\n",
       "      <td>False</td>\n",
       "    </tr>\n",
       "    <tr>\n",
       "      <th>2</th>\n",
       "      <td>NJ</td>\n",
       "      <td>137</td>\n",
       "      <td>415</td>\n",
       "      <td>0</td>\n",
       "      <td>0</td>\n",
       "      <td>0</td>\n",
       "      <td>243.4</td>\n",
       "      <td>114</td>\n",
       "      <td>41.38</td>\n",
       "      <td>121.2</td>\n",
       "      <td>110</td>\n",
       "      <td>10.30</td>\n",
       "      <td>162.6</td>\n",
       "      <td>104</td>\n",
       "      <td>7.32</td>\n",
       "      <td>12.2</td>\n",
       "      <td>5</td>\n",
       "      <td>3.29</td>\n",
       "      <td>0</td>\n",
       "      <td>False</td>\n",
       "    </tr>\n",
       "    <tr>\n",
       "      <th>3</th>\n",
       "      <td>OH</td>\n",
       "      <td>84</td>\n",
       "      <td>408</td>\n",
       "      <td>1</td>\n",
       "      <td>0</td>\n",
       "      <td>0</td>\n",
       "      <td>299.4</td>\n",
       "      <td>71</td>\n",
       "      <td>50.90</td>\n",
       "      <td>61.9</td>\n",
       "      <td>88</td>\n",
       "      <td>5.26</td>\n",
       "      <td>196.9</td>\n",
       "      <td>89</td>\n",
       "      <td>8.86</td>\n",
       "      <td>6.6</td>\n",
       "      <td>7</td>\n",
       "      <td>1.78</td>\n",
       "      <td>2</td>\n",
       "      <td>False</td>\n",
       "    </tr>\n",
       "    <tr>\n",
       "      <th>4</th>\n",
       "      <td>OK</td>\n",
       "      <td>75</td>\n",
       "      <td>415</td>\n",
       "      <td>1</td>\n",
       "      <td>0</td>\n",
       "      <td>0</td>\n",
       "      <td>166.7</td>\n",
       "      <td>113</td>\n",
       "      <td>28.34</td>\n",
       "      <td>148.3</td>\n",
       "      <td>122</td>\n",
       "      <td>12.61</td>\n",
       "      <td>186.9</td>\n",
       "      <td>121</td>\n",
       "      <td>8.41</td>\n",
       "      <td>10.1</td>\n",
       "      <td>3</td>\n",
       "      <td>2.73</td>\n",
       "      <td>3</td>\n",
       "      <td>False</td>\n",
       "    </tr>\n",
       "  </tbody>\n",
       "</table>\n",
       "</div>"
      ],
      "text/plain": [
       "  State  Account length  Area code  International plan  Voice mail plan  \\\n",
       "0    KS             128        415                   0                1   \n",
       "1    OH             107        415                   0                1   \n",
       "2    NJ             137        415                   0                0   \n",
       "3    OH              84        408                   1                0   \n",
       "4    OK              75        415                   1                0   \n",
       "\n",
       "   Number vmail messages  Total day minutes  Total day calls  \\\n",
       "0                     25              265.1              110   \n",
       "1                     26              161.6              123   \n",
       "2                      0              243.4              114   \n",
       "3                      0              299.4               71   \n",
       "4                      0              166.7              113   \n",
       "\n",
       "   Total day charge  Total eve minutes  Total eve calls  Total eve charge  \\\n",
       "0             45.07              197.4               99             16.78   \n",
       "1             27.47              195.5              103             16.62   \n",
       "2             41.38              121.2              110             10.30   \n",
       "3             50.90               61.9               88              5.26   \n",
       "4             28.34              148.3              122             12.61   \n",
       "\n",
       "   Total night minutes  Total night calls  Total night charge  \\\n",
       "0                244.7                 91               11.01   \n",
       "1                254.4                103               11.45   \n",
       "2                162.6                104                7.32   \n",
       "3                196.9                 89                8.86   \n",
       "4                186.9                121                8.41   \n",
       "\n",
       "   Total intl minutes  Total intl calls  Total intl charge  \\\n",
       "0                10.0                 3               2.70   \n",
       "1                13.7                 3               3.70   \n",
       "2                12.2                 5               3.29   \n",
       "3                 6.6                 7               1.78   \n",
       "4                10.1                 3               2.73   \n",
       "\n",
       "   Customer service calls  Churn  \n",
       "0                       1  False  \n",
       "1                       1  False  \n",
       "2                       0  False  \n",
       "3                       2  False  \n",
       "4                       3  False  "
      ]
     },
     "execution_count": 54,
     "metadata": {},
     "output_type": "execute_result"
    }
   ],
   "source": [
    "df.head()"
   ]
  },
  {
   "cell_type": "code",
   "execution_count": 55,
   "metadata": {},
   "outputs": [],
   "source": [
    "df['Churn'] = df['Churn'].astype('int')"
   ]
  },
  {
   "cell_type": "code",
   "execution_count": 56,
   "metadata": {},
   "outputs": [],
   "source": [
    "state = df.pop('State')"
   ]
  },
  {
   "cell_type": "markdown",
   "metadata": {},
   "source": [
    "### Split the DateFrame into a matrix X and vector y which form the tainin set"
   ]
  },
  {
   "cell_type": "code",
   "execution_count": 57,
   "metadata": {},
   "outputs": [],
   "source": [
    "X, y = df.drop('Churn', axis=1), df['Churn']"
   ]
  },
  {
   "cell_type": "code",
   "execution_count": 58,
   "metadata": {},
   "outputs": [
    {
     "data": {
      "text/plain": [
       "((3333, 18), (3333,))"
      ]
     },
     "execution_count": 58,
     "metadata": {},
     "output_type": "execute_result"
    }
   ],
   "source": [
    "X.shape, y.shape"
   ]
  },
  {
   "cell_type": "code",
   "execution_count": 59,
   "metadata": {},
   "outputs": [],
   "source": [
    "from sklearn.model_selection import train_test_split"
   ]
  },
  {
   "cell_type": "code",
   "execution_count": 60,
   "metadata": {},
   "outputs": [],
   "source": [
    "X_train, X_holdout, y_train, y_holdout = \\\n",
    "    train_test_split(X, y, test_size=.3, random_state=17)"
   ]
  },
  {
   "cell_type": "code",
   "execution_count": 61,
   "metadata": {},
   "outputs": [
    {
     "data": {
      "text/plain": [
       "((2333, 18), (1000, 18))"
      ]
     },
     "execution_count": 61,
     "metadata": {},
     "output_type": "execute_result"
    }
   ],
   "source": [
    "X_train.shape, X_holdout.shape"
   ]
  },
  {
   "cell_type": "code",
   "execution_count": 62,
   "metadata": {},
   "outputs": [],
   "source": [
    "from sklearn.tree import DecisionTreeClassifier\n"
   ]
  },
  {
   "cell_type": "code",
   "execution_count": 63,
   "metadata": {},
   "outputs": [],
   "source": [
    "tree = DecisionTreeClassifier(random_state=17)"
   ]
  },
  {
   "cell_type": "code",
   "execution_count": 64,
   "metadata": {},
   "outputs": [
    {
     "data": {
      "text/plain": [
       "DecisionTreeClassifier(random_state=17)"
      ]
     },
     "execution_count": 64,
     "metadata": {},
     "output_type": "execute_result"
    }
   ],
   "source": [
    "tree.fit(X_train, y_train)"
   ]
  },
  {
   "cell_type": "markdown",
   "metadata": {},
   "source": [
    "#### Cross-validation"
   ]
  },
  {
   "cell_type": "code",
   "execution_count": 92,
   "metadata": {},
   "outputs": [],
   "source": [
    "from sklearn.model_selection import cross_val_score"
   ]
  },
  {
   "cell_type": "code",
   "execution_count": 82,
   "metadata": {},
   "outputs": [],
   "source": [
    "skf = StratifiedKFold(n_splits=5, shuffle=True, random_state=17)"
   ]
  },
  {
   "cell_type": "code",
   "execution_count": 108,
   "metadata": {},
   "outputs": [],
   "source": [
    "cv_accuracies_by_depth, ho_accuracies_by_depth = [], []\n",
    "\n",
    "max_depth_values = np.arange(2, 10)\n",
    "\n",
    "# for each value of max depth\n",
    "for max_depth in max_depth_values:\n",
    "    tree = DecisionTreeClassifier(random_state=17, max_depth=max_depth)\n",
    "    # perform cross-validation\n",
    "    val_scores = cross_val_score(estimator=tree, X=X_train, y=y_train, cv=skf)\n",
    "    cv_accuracies_by_depth.append(val_scores.mean())\n",
    "    # assess the model with the holdout set\n",
    "    tree.fit(X_train, y_train)\n",
    "    \n",
    "    cuur_ho_pred = tree.predict(X_holdout)\n",
    "    \n",
    "    ho_accuracies_by_depth.append(accuracy_score(y_holdout, cuur_ho_pred))"
   ]
  },
  {
   "cell_type": "code",
   "execution_count": 100,
   "metadata": {},
   "outputs": [
    {
     "data": {
      "text/plain": [
       "[0.8769848636626811,\n",
       " 0.9018352923877181,\n",
       " 0.9211292975893981,\n",
       " 0.9335600261003023,\n",
       " 0.9361296192480539,\n",
       " 0.936563398921065,\n",
       " 0.9382746229701041,\n",
       " 0.9318432879028775]"
      ]
     },
     "execution_count": 100,
     "metadata": {},
     "output_type": "execute_result"
    }
   ],
   "source": [
    "accuracies_by_depth"
   ]
  },
  {
   "cell_type": "code",
   "execution_count": 111,
   "metadata": {},
   "outputs": [
    {
     "data": {
      "image/png": "[encoded data removed]",
      "text/plain": [
       "<Figure size 432x288 with 1 Axes>"
      ]
     },
     "metadata": {
      "needs_background": "light"
     },
     "output_type": "display_data"
    }
   ],
   "source": [
    "plt.plot(max_depth_values, cv_accuracies_by_depth, label='CV', c='blue')\n",
    "plt.plot(max_depth_values, ho_accuracies_by_depth, label='holdout', c='orange');\n",
    "plt.legend();\n",
    "plt.xlabel('max depth')\n",
    "plt.ylabel('Accuracy')\n",
    "plt.title('DT validation curves for max_depth');"
   ]
  },
  {
   "cell_type": "code",
   "execution_count": 94,
   "metadata": {},
   "outputs": [],
   "source": [
    "val_score = cross_val_score(estimator=tree, X=X_train, y=y_train, cv=skf)"
   ]
  },
  {
   "cell_type": "code",
   "execution_count": 95,
   "metadata": {},
   "outputs": [
    {
     "data": {
      "text/plain": [
       "0.9104125502017257"
      ]
     },
     "execution_count": 95,
     "metadata": {},
     "output_type": "execute_result"
    }
   ],
   "source": [
    "val_score.mean()"
   ]
  },
  {
   "cell_type": "code",
   "execution_count": null,
   "metadata": {},
   "outputs": [],
   "source": []
  },
  {
   "cell_type": "code",
   "execution_count": null,
   "metadata": {},
   "outputs": [],
   "source": []
  },
  {
   "cell_type": "code",
   "execution_count": 65,
   "metadata": {},
   "outputs": [],
   "source": [
    "from sklearn.metrics import accuracy_score"
   ]
  },
  {
   "cell_type": "code",
   "execution_count": 66,
   "metadata": {},
   "outputs": [],
   "source": [
    "pred_holdout = tree.predict(X_holdout)"
   ]
  },
  {
   "cell_type": "code",
   "execution_count": 67,
   "metadata": {},
   "outputs": [
    {
     "data": {
      "text/plain": [
       "((1000,), (1000,))"
      ]
     },
     "execution_count": 67,
     "metadata": {},
     "output_type": "execute_result"
    }
   ],
   "source": [
    "pred_holdout.shape, y_holdout.shape"
   ]
  },
  {
   "cell_type": "code",
   "execution_count": 68,
   "metadata": {},
   "outputs": [
    {
     "data": {
      "text/plain": [
       "0.921"
      ]
     },
     "execution_count": 68,
     "metadata": {},
     "output_type": "execute_result"
    }
   ],
   "source": [
    "accuracy_score(y_holdout, pred_holdout)"
   ]
  },
  {
   "cell_type": "code",
   "execution_count": 69,
   "metadata": {},
   "outputs": [],
   "source": [
    "import numpy as np"
   ]
  },
  {
   "cell_type": "code",
   "execution_count": 70,
   "metadata": {},
   "outputs": [
    {
     "data": {
      "text/plain": [
       "0    0.855086\n",
       "1    0.144914\n",
       "Name: Churn, dtype: float64"
      ]
     },
     "execution_count": 70,
     "metadata": {},
     "output_type": "execute_result"
    }
   ],
   "source": [
    "y.value_counts(normalize=True)"
   ]
  },
  {
   "cell_type": "code",
   "execution_count": 71,
   "metadata": {},
   "outputs": [],
   "source": [
    "from sklearn.model_selection import GridSearchCV, StratifiedKFold"
   ]
  },
  {
   "cell_type": "code",
   "execution_count": 81,
   "metadata": {},
   "outputs": [],
   "source": [
    "params = {'max_depth': np.arange(2, 11), 'min_samples_leaf': np.arange(1, 11)}"
   ]
  },
  {
   "cell_type": "code",
   "execution_count": 82,
   "metadata": {},
   "outputs": [],
   "source": [
    "skf = StratifiedKFold(n_splits=5, shuffle=True, random_state=17)"
   ]
  },
  {
   "cell_type": "code",
   "execution_count": 83,
   "metadata": {},
   "outputs": [],
   "source": [
    "best_tree = GridSearchCV(estimator=tree, param_grid=params, cv=skf, n_jobs=-1,\n",
    "                        verbose=1)"
   ]
  },
  {
   "cell_type": "code",
   "execution_count": 84,
   "metadata": {},
   "outputs": [
    {
     "name": "stdout",
     "output_type": "stream",
     "text": [
      "Fitting 5 folds for each of 90 candidates, totalling 450 fits\n"
     ]
    },
    {
     "name": "stderr",
     "output_type": "stream",
     "text": [
      "[Parallel(n_jobs=-1)]: Using backend LokyBackend with 8 concurrent workers.\n",
      "[Parallel(n_jobs=-1)]: Done  56 tasks      | elapsed:    0.2s\n",
      "[Parallel(n_jobs=-1)]: Done 450 out of 450 | elapsed:    1.3s finished\n"
     ]
    },
    {
     "data": {
      "text/plain": [
       "GridSearchCV(cv=StratifiedKFold(n_splits=5, random_state=17, shuffle=True),\n",
       "             estimator=DecisionTreeClassifier(random_state=17), n_jobs=-1,\n",
       "             param_grid={'max_depth': array([ 2,  3,  4,  5,  6,  7,  8,  9, 10]),\n",
       "                         'min_samples_leaf': array([ 1,  2,  3,  4,  5,  6,  7,  8,  9, 10])},\n",
       "             verbose=1)"
      ]
     },
     "execution_count": 84,
     "metadata": {},
     "output_type": "execute_result"
    }
   ],
   "source": [
    "best_tree.fit(X_train, y_train)"
   ]
  },
  {
   "cell_type": "code",
   "execution_count": 85,
   "metadata": {},
   "outputs": [
    {
     "data": {
      "text/plain": [
       "{'max_depth': 6, 'min_samples_leaf': 4}"
      ]
     },
     "execution_count": 85,
     "metadata": {},
     "output_type": "execute_result"
    }
   ],
   "source": [
    "best_tree.best_params_"
   ]
  },
  {
   "cell_type": "code",
   "execution_count": 86,
   "metadata": {},
   "outputs": [
    {
     "data": {
      "text/plain": [
       "DecisionTreeClassifier(max_depth=6, min_samples_leaf=4, random_state=17)"
      ]
     },
     "execution_count": 86,
     "metadata": {},
     "output_type": "execute_result"
    }
   ],
   "source": [
    "best_tree.best_estimator_\n"
   ]
  },
  {
   "cell_type": "markdown",
   "metadata": {},
   "source": [
    "## Cross-Validation assessment of model quality\n",
    "    "
   ]
  },
  {
   "cell_type": "code",
   "execution_count": 89,
   "metadata": {},
   "outputs": [
    {
     "data": {
      "text/plain": [
       "0.9438485079633493"
      ]
     },
     "execution_count": 89,
     "metadata": {},
     "output_type": "execute_result"
    }
   ],
   "source": [
    "best_tree.best_score_\n",
    "    "
   ]
  },
  {
   "cell_type": "code",
   "execution_count": 90,
   "metadata": {},
   "outputs": [],
   "source": [
    "pred_holdout_better = best_tree.predict(X_holdout)"
   ]
  },
  {
   "cell_type": "markdown",
   "metadata": {},
   "source": [
    "## Holdout assessment of model quality\n",
    "    "
   ]
  },
  {
   "cell_type": "code",
   "execution_count": 91,
   "metadata": {},
   "outputs": [
    {
     "data": {
      "text/plain": [
       "0.94"
      ]
     },
     "execution_count": 91,
     "metadata": {},
     "output_type": "execute_result"
    }
   ],
   "source": [
    "accuracy_score(y_holdout, pred_holdout_better)"
   ]
  },
  {
   "cell_type": "code",
   "execution_count": 112,
   "metadata": {},
   "outputs": [],
   "source": [
    "from sklearn.tree import export_graphviz"
   ]
  },
  {
   "cell_type": "code",
   "execution_count": 117,
   "metadata": {},
   "outputs": [],
   "source": [
    "export_graphviz(decision_tree=best_tree.best_estimator_,\n",
    "               out_file='tree.dot', filled=True, \n",
    "                feature_names=df.drop('Churn', axis=1).columns)"
   ]
  },
  {
   "cell_type": "code",
   "execution_count": 118,
   "metadata": {},
   "outputs": [
    {
     "name": "stdout",
     "output_type": "stream",
     "text": [
      "tree.dot\r\n"
     ]
    }
   ],
   "source": [
    "!ls *.dot"
   ]
  },
  {
   "cell_type": "code",
   "execution_count": 119,
   "metadata": {},
   "outputs": [
    {
     "name": "stdout",
     "output_type": "stream",
     "text": [
      "digraph Tree {\r\n",
      "node [shape=box, style=\"filled\", color=\"black\"] ;\r\n",
      "0 [label=\"Total day minutes <= 264.45\\ngini = 0.255\\nsamples = 2333\\nvalue = [1983, 350]\", fillcolor=\"#ea975c\"] ;\r\n",
      "1 [label=\"Customer service calls <= 3.5\\ngini = 0.206\\nsamples = 2182\\nvalue = [1927, 255]\", fillcolor=\"#e89253\"] ;\r\n",
      "0 -> 1 [labeldistance=2.5, labelangle=45, headlabel=\"True\"] ;\r\n",
      "2 [label=\"International plan <= 0.5\\ngini = 0.149\\nsamples = 2004\\nvalue = [1842, 162]\", fillcolor=\"#e78c4a\"] ;\r\n",
      "1 -> 2 ;\r\n",
      "3 [label=\"Total day charge <= 38.185\\ngini = 0.096\\nsamples = 1828\\nvalue = [1736, 92]\", fillcolor=\"#e68843\"] ;\r\n",
      "2 -> 3 ;\r\n",
      "4 [label=\"Total eve charge <= 27.965\\ngini = 0.056\\nsamples = 1570\\nvalue = [1525, 45]\", fillcolor=\"#e6853f\"] ;\r\n",
      "3 -> 4 ;\r\n",
      "5 [label=\"Total day calls <= 121.5\\ngini = 0.054\\nsamples = 1562\\nvalue = [1519, 43]\", fillcolor=\"#e6853f\"] ;\r\n",
      "4 -> 5 ;\r\n",
      "6 [label=\"gini = 0.044\\nsamples = 1336\\nvalue = [1306, 30]\", fillcolor=\"#e6843e\"] ;\r\n",
      "5 -> 6 ;\r\n",
      "7 [label=\"gini = 0.108\\nsamples = 226\\nvalue = [213, 13]\", fillcolor=\"#e78945\"] ;\r\n",
      "5 -> 7 ;\r\n",
      "8 [label=\"Total day calls <= 99.5\\ngini = 0.375\\nsamples = 8\\nvalue = [6, 2]\", fillcolor=\"#eeab7b\"] ;\r\n",
      "4 -> 8 ;\r\n",
      "9 [label=\"gini = 0.0\\nsamples = 4\\nvalue = [4, 0]\", fillcolor=\"#e58139\"] ;\r\n",
      "8 -> 9 ;\r\n",
      "10 [label=\"gini = 0.5\\nsamples = 4\\nvalue = [2, 2]\", fillcolor=\"#ffffff\"] ;\r\n",
      "8 -> 10 ;\r\n",
      "11 [label=\"Total eve charge <= 22.67\\ngini = 0.298\\nsamples = 258\\nvalue = [211, 47]\", fillcolor=\"#eb9d65\"] ;\r\n",
      "3 -> 11 ;\r\n",
      "12 [label=\"Total eve minutes <= 242.35\\ngini = 0.188\\nsamples = 229\\nvalue = [205, 24]\", fillcolor=\"#e89050\"] ;\r\n",
      "11 -> 12 ;\r\n",
      "13 [label=\"gini = 0.123\\nsamples = 198\\nvalue = [185, 13]\", fillcolor=\"#e78a47\"] ;\r\n",
      "12 -> 13 ;\r\n",
      "14 [label=\"gini = 0.458\\nsamples = 31\\nvalue = [20, 11]\", fillcolor=\"#f3c6a6\"] ;\r\n",
      "12 -> 14 ;\r\n",
      "15 [label=\"Voice mail plan <= 0.5\\ngini = 0.328\\nsamples = 29\\nvalue = [6, 23]\", fillcolor=\"#6db7ec\"] ;\r\n",
      "11 -> 15 ;\r\n",
      "16 [label=\"gini = 0.08\\nsamples = 24\\nvalue = [1, 23]\", fillcolor=\"#42a1e6\"] ;\r\n",
      "15 -> 16 ;\r\n",
      "17 [label=\"gini = 0.0\\nsamples = 5\\nvalue = [5, 0]\", fillcolor=\"#e58139\"] ;\r\n",
      "15 -> 17 ;\r\n",
      "18 [label=\"Total intl calls <= 2.5\\ngini = 0.479\\nsamples = 176\\nvalue = [106, 70]\", fillcolor=\"#f6d4bc\"] ;\r\n",
      "2 -> 18 ;\r\n",
      "19 [label=\"gini = 0.0\\nsamples = 39\\nvalue = [0, 39]\", fillcolor=\"#399de5\"] ;\r\n",
      "18 -> 19 ;\r\n",
      "20 [label=\"Total intl minutes <= 13.1\\ngini = 0.35\\nsamples = 137\\nvalue = [106, 31]\", fillcolor=\"#eda673\"] ;\r\n",
      "18 -> 20 ;\r\n",
      "21 [label=\"Total eve minutes <= 321.0\\ngini = 0.086\\nsamples = 111\\nvalue = [106, 5]\", fillcolor=\"#e68742\"] ;\r\n",
      "20 -> 21 ;\r\n",
      "22 [label=\"gini = 0.055\\nsamples = 107\\nvalue = [104, 3]\", fillcolor=\"#e6853f\"] ;\r\n",
      "21 -> 22 ;\r\n",
      "23 [label=\"gini = 0.5\\nsamples = 4\\nvalue = [2, 2]\", fillcolor=\"#ffffff\"] ;\r\n",
      "21 -> 23 ;\r\n",
      "24 [label=\"gini = 0.0\\nsamples = 26\\nvalue = [0, 26]\", fillcolor=\"#399de5\"] ;\r\n",
      "20 -> 24 ;\r\n",
      "25 [label=\"Total day minutes <= 159.9\\ngini = 0.499\\nsamples = 178\\nvalue = [85, 93]\", fillcolor=\"#eef7fd\"] ;\r\n",
      "1 -> 25 ;\r\n",
      "26 [label=\"Total eve minutes <= 265.5\\ngini = 0.209\\nsamples = 76\\nvalue = [9, 67]\", fillcolor=\"#54aae8\"] ;\r\n",
      "25 -> 26 ;\r\n",
      "27 [label=\"Total day minutes <= 138.6\\ngini = 0.153\\nsamples = 72\\nvalue = [6, 66]\", fillcolor=\"#4ba6e7\"] ;\r\n",
      "26 -> 27 ;\r\n",
      "28 [label=\"gini = 0.0\\nsamples = 41\\nvalue = [0, 41]\", fillcolor=\"#399de5\"] ;\r\n",
      "27 -> 28 ;\r\n",
      "29 [label=\"Total eve charge <= 16.42\\ngini = 0.312\\nsamples = 31\\nvalue = [6, 25]\", fillcolor=\"#69b5eb\"] ;\r\n",
      "27 -> 29 ;\r\n",
      "30 [label=\"gini = 0.0\\nsamples = 19\\nvalue = [0, 19]\", fillcolor=\"#399de5\"] ;\r\n",
      "29 -> 30 ;\r\n",
      "31 [label=\"gini = 0.5\\nsamples = 12\\nvalue = [6, 6]\", fillcolor=\"#ffffff\"] ;\r\n",
      "29 -> 31 ;\r\n",
      "32 [label=\"gini = 0.375\\nsamples = 4\\nvalue = [3, 1]\", fillcolor=\"#eeab7b\"] ;\r\n",
      "26 -> 32 ;\r\n",
      "33 [label=\"Total eve minutes <= 155.5\\ngini = 0.38\\nsamples = 102\\nvalue = [76, 26]\", fillcolor=\"#eeac7d\"] ;\r\n",
      "25 -> 33 ;\r\n",
      "34 [label=\"Total day charge <= 34.36\\ngini = 0.461\\nsamples = 25\\nvalue = [9, 16]\", fillcolor=\"#a8d4f4\"] ;\r\n",
      "33 -> 34 ;\r\n",
      "35 [label=\"Account length <= 52.0\\ngini = 0.231\\nsamples = 15\\nvalue = [2, 13]\", fillcolor=\"#57ace9\"] ;\r\n",
      "34 -> 35 ;\r\n",
      "36 [label=\"gini = 0.5\\nsamples = 4\\nvalue = [2, 2]\", fillcolor=\"#ffffff\"] ;\r\n",
      "35 -> 36 ;\r\n",
      "37 [label=\"gini = 0.0\\nsamples = 11\\nvalue = [0, 11]\", fillcolor=\"#399de5\"] ;\r\n",
      "35 -> 37 ;\r\n",
      "38 [label=\"Total night calls <= 100.5\\ngini = 0.42\\nsamples = 10\\nvalue = [7, 3]\", fillcolor=\"#f0b78e\"] ;\r\n",
      "34 -> 38 ;\r\n",
      "39 [label=\"gini = 0.0\\nsamples = 5\\nvalue = [5, 0]\", fillcolor=\"#e58139\"] ;\r\n",
      "38 -> 39 ;\r\n",
      "40 [label=\"gini = 0.48\\nsamples = 5\\nvalue = [2, 3]\", fillcolor=\"#bddef6\"] ;\r\n",
      "38 -> 40 ;\r\n",
      "41 [label=\"Total day charge <= 29.525\\ngini = 0.226\\nsamples = 77\\nvalue = [67, 10]\", fillcolor=\"#e99457\"] ;\r\n",
      "33 -> 41 ;\r\n",
      "42 [label=\"Total eve charge <= 17.755\\ngini = 0.457\\nsamples = 17\\nvalue = [11, 6]\", fillcolor=\"#f3c6a5\"] ;\r\n",
      "41 -> 42 ;\r\n",
      "43 [label=\"gini = 0.245\\nsamples = 7\\nvalue = [1, 6]\", fillcolor=\"#5aade9\"] ;\r\n",
      "42 -> 43 ;\r\n",
      "44 [label=\"gini = 0.0\\nsamples = 10\\nvalue = [10, 0]\", fillcolor=\"#e58139\"] ;\r\n",
      "42 -> 44 ;\r\n",
      "45 [label=\"International plan <= 0.5\\ngini = 0.124\\nsamples = 60\\nvalue = [56, 4]\", fillcolor=\"#e78a47\"] ;\r\n",
      "41 -> 45 ;\r\n",
      "46 [label=\"gini = 0.038\\nsamples = 52\\nvalue = [51, 1]\", fillcolor=\"#e6833d\"] ;\r\n",
      "45 -> 46 ;\r\n",
      "47 [label=\"gini = 0.469\\nsamples = 8\\nvalue = [5, 3]\", fillcolor=\"#f5cdb0\"] ;\r\n",
      "45 -> 47 ;\r\n",
      "48 [label=\"Number vmail messages <= 6.5\\ngini = 0.467\\nsamples = 151\\nvalue = [56, 95]\", fillcolor=\"#aed7f4\"] ;\r\n",
      "0 -> 48 [labeldistance=2.5, labelangle=-45, headlabel=\"False\"] ;\r\n",
      "49 [label=\"Total eve charge <= 15.96\\ngini = 0.335\\nsamples = 113\\nvalue = [24, 89]\", fillcolor=\"#6eb7ec\"] ;\r\n",
      "48 -> 49 ;\r\n",
      "50 [label=\"Total day minutes <= 302.45\\ngini = 0.495\\nsamples = 40\\nvalue = [22, 18]\", fillcolor=\"#fae8db\"] ;\r\n",
      "49 -> 50 ;\r\n",
      "51 [label=\"Total night charge <= 9.595\\ngini = 0.43\\nsamples = 32\\nvalue = [22, 10]\", fillcolor=\"#f1ba93\"] ;\r\n",
      "50 -> 51 ;\r\n",
      "52 [label=\"Total intl minutes <= 12.15\\ngini = 0.1\\nsamples = 19\\nvalue = [18, 1]\", fillcolor=\"#e68844\"] ;\r\n",
      "51 -> 52 ;\r\n",
      "53 [label=\"gini = 0.0\\nsamples = 15\\nvalue = [15, 0]\", fillcolor=\"#e58139\"] ;\r\n",
      "52 -> 53 ;\r\n",
      "54 [label=\"gini = 0.375\\nsamples = 4\\nvalue = [3, 1]\", fillcolor=\"#eeab7b\"] ;\r\n",
      "52 -> 54 ;\r\n",
      "55 [label=\"Total eve minutes <= 155.3\\ngini = 0.426\\nsamples = 13\\nvalue = [4, 9]\", fillcolor=\"#91c9f1\"] ;\r\n",
      "51 -> 55 ;\r\n",
      "56 [label=\"gini = 0.0\\nsamples = 4\\nvalue = [4, 0]\", fillcolor=\"#e58139\"] ;\r\n",
      "55 -> 56 ;\r\n",
      "57 [label=\"gini = 0.0\\nsamples = 9\\nvalue = [0, 9]\", fillcolor=\"#399de5\"] ;\r\n",
      "55 -> 57 ;\r\n",
      "58 [label=\"gini = 0.0\\nsamples = 8\\nvalue = [0, 8]\", fillcolor=\"#399de5\"] ;\r\n",
      "50 -> 58 ;\r\n",
      "59 [label=\"Total night charge <= 6.445\\ngini = 0.053\\nsamples = 73\\nvalue = [2, 71]\", fillcolor=\"#3fa0e6\"] ;\r\n",
      "49 -> 59 ;\r\n",
      "60 [label=\"gini = 0.5\\nsamples = 4\\nvalue = [2, 2]\", fillcolor=\"#ffffff\"] ;\r\n",
      "59 -> 60 ;\r\n",
      "61 [label=\"gini = 0.0\\nsamples = 69\\nvalue = [0, 69]\", fillcolor=\"#399de5\"] ;\r\n",
      "59 -> 61 ;\r\n",
      "62 [label=\"International plan <= 0.5\\ngini = 0.266\\nsamples = 38\\nvalue = [32, 6]\", fillcolor=\"#ea995e\"] ;\r\n",
      "48 -> 62 ;\r\n",
      "63 [label=\"Total eve charge <= 21.285\\ngini = 0.062\\nsamples = 31\\nvalue = [30, 1]\", fillcolor=\"#e68540\"] ;\r\n",
      "62 -> 63 ;\r\n",
      "64 [label=\"gini = 0.0\\nsamples = 27\\nvalue = [27, 0]\", fillcolor=\"#e58139\"] ;\r\n",
      "63 -> 64 ;\r\n",
      "65 [label=\"gini = 0.375\\nsamples = 4\\nvalue = [3, 1]\", fillcolor=\"#eeab7b\"] ;\r\n",
      "63 -> 65 ;\r\n",
      "66 [label=\"gini = 0.408\\nsamples = 7\\nvalue = [2, 5]\", fillcolor=\"#88c4ef\"] ;\r\n",
      "62 -> 66 ;\r\n",
      "}"
     ]
    }
   ],
   "source": [
    "!cat tree.dot\n"
   ]
  },
  {
   "cell_type": "code",
   "execution_count": 138,
   "metadata": {},
   "outputs": [],
   "source": [
    "tree = DecisionTreeClassifier(random_state=17, max_depth=3).fit(X_train, y_train)"
   ]
  },
  {
   "cell_type": "code",
   "execution_count": null,
   "metadata": {},
   "outputs": [],
   "source": []
  },
  {
   "cell_type": "code",
   "execution_count": 139,
   "metadata": {},
   "outputs": [],
   "source": [
    "export_graphviz(decision_tree=tree,\n",
    "               out_file='tree3.dot', filled=True, \n",
    "                feature_names=df.drop('Churn', axis=1).columns)"
   ]
  },
  {
   "cell_type": "code",
   "execution_count": 140,
   "metadata": {},
   "outputs": [
    {
     "name": "stdout",
     "output_type": "stream",
     "text": [
      "digraph Tree {\r\n",
      "node [shape=box, style=\"filled\", color=\"black\"] ;\r\n",
      "0 [label=\"Total day minutes <= 264.45\\ngini = 0.255\\nsamples = 2333\\nvalue = [1983, 350]\", fillcolor=\"#ea975c\"] ;\r\n",
      "1 [label=\"Customer service calls <= 3.5\\ngini = 0.206\\nsamples = 2182\\nvalue = [1927, 255]\", fillcolor=\"#e89253\"] ;\r\n",
      "0 -> 1 [labeldistance=2.5, labelangle=45, headlabel=\"True\"] ;\r\n",
      "2 [label=\"International plan <= 0.5\\ngini = 0.149\\nsamples = 2004\\nvalue = [1842, 162]\", fillcolor=\"#e78c4a\"] ;\r\n",
      "1 -> 2 ;\r\n",
      "3 [label=\"gini = 0.096\\nsamples = 1828\\nvalue = [1736, 92]\", fillcolor=\"#e68843\"] ;\r\n",
      "2 -> 3 ;\r\n",
      "4 [label=\"gini = 0.479\\nsamples = 176\\nvalue = [106, 70]\", fillcolor=\"#f6d4bc\"] ;\r\n",
      "2 -> 4 ;\r\n",
      "5 [label=\"Total day charge <= 27.185\\ngini = 0.499\\nsamples = 178\\nvalue = [85, 93]\", fillcolor=\"#eef7fd\"] ;\r\n",
      "1 -> 5 ;\r\n",
      "6 [label=\"gini = 0.209\\nsamples = 76\\nvalue = [9, 67]\", fillcolor=\"#54aae8\"] ;\r\n",
      "5 -> 6 ;\r\n",
      "7 [label=\"gini = 0.38\\nsamples = 102\\nvalue = [76, 26]\", fillcolor=\"#eeac7d\"] ;\r\n",
      "5 -> 7 ;\r\n",
      "8 [label=\"Voice mail plan <= 0.5\\ngini = 0.467\\nsamples = 151\\nvalue = [56, 95]\", fillcolor=\"#aed7f4\"] ;\r\n",
      "0 -> 8 [labeldistance=2.5, labelangle=-45, headlabel=\"False\"] ;\r\n",
      "9 [label=\"Total eve charge <= 15.96\\ngini = 0.335\\nsamples = 113\\nvalue = [24, 89]\", fillcolor=\"#6eb7ec\"] ;\r\n",
      "8 -> 9 ;\r\n",
      "10 [label=\"gini = 0.495\\nsamples = 40\\nvalue = [22, 18]\", fillcolor=\"#fae8db\"] ;\r\n",
      "9 -> 10 ;\r\n",
      "11 [label=\"gini = 0.053\\nsamples = 73\\nvalue = [2, 71]\", fillcolor=\"#3fa0e6\"] ;\r\n",
      "9 -> 11 ;\r\n",
      "12 [label=\"International plan <= 0.5\\ngini = 0.266\\nsamples = 38\\nvalue = [32, 6]\", fillcolor=\"#ea995e\"] ;\r\n",
      "8 -> 12 ;\r\n",
      "13 [label=\"gini = 0.062\\nsamples = 31\\nvalue = [30, 1]\", fillcolor=\"#e68540\"] ;\r\n",
      "12 -> 13 ;\r\n",
      "14 [label=\"gini = 0.408\\nsamples = 7\\nvalue = [2, 5]\", fillcolor=\"#88c4ef\"] ;\r\n",
      "12 -> 14 ;\r\n",
      "}"
     ]
    }
   ],
   "source": [
    "!cat tree3.dot"
   ]
  },
  {
   "cell_type": "code",
   "execution_count": 141,
   "metadata": {},
   "outputs": [],
   "source": [
    "from io import StringIO\n",
    "from ipywidgets import Image\n",
    "import pydotplus"
   ]
  },
  {
   "cell_type": "code",
   "execution_count": 142,
   "metadata": {},
   "outputs": [
    {
     "ename": "InvocationException",
     "evalue": "GraphViz's executables not found",
     "output_type": "error",
     "traceback": [
      "\u001b[0;31m---------------------------------------------------------------------------\u001b[0m",
      "\u001b[0;31mInvocationException\u001b[0m                       Traceback (most recent call last)",
      "\u001b[0;32m<ipython-input-142-354a73075db9>\u001b[0m in \u001b[0;36m<module>\u001b[0;34m\u001b[0m\n\u001b[1;32m      4\u001b[0m                 feature_names=df.drop('Churn', axis=1).columns)\n\u001b[1;32m      5\u001b[0m \u001b[0mgraph\u001b[0m \u001b[0;34m=\u001b[0m \u001b[0mpydotplus\u001b[0m\u001b[0;34m.\u001b[0m\u001b[0mgraph_from_dot_data\u001b[0m\u001b[0;34m(\u001b[0m\u001b[0mdot_data\u001b[0m\u001b[0;34m.\u001b[0m\u001b[0mgetvalue\u001b[0m\u001b[0;34m(\u001b[0m\u001b[0;34m)\u001b[0m\u001b[0;34m)\u001b[0m\u001b[0;34m\u001b[0m\u001b[0;34m\u001b[0m\u001b[0m\n\u001b[0;32m----> 6\u001b[0;31m \u001b[0mImage\u001b[0m\u001b[0;34m(\u001b[0m\u001b[0mvalue\u001b[0m\u001b[0;34m=\u001b[0m\u001b[0mgraph\u001b[0m\u001b[0;34m.\u001b[0m\u001b[0mcreate_png\u001b[0m\u001b[0;34m(\u001b[0m\u001b[0;34m)\u001b[0m\u001b[0;34m)\u001b[0m\u001b[0;34m\u001b[0m\u001b[0;34m\u001b[0m\u001b[0m\n\u001b[0m",
      "\u001b[0;32m~/opt/anaconda3/lib/python3.8/site-packages/pydotplus/graphviz.py\u001b[0m in \u001b[0;36m<lambda>\u001b[0;34m(f, prog)\u001b[0m\n\u001b[1;32m   1795\u001b[0m             self.__setattr__(\n\u001b[1;32m   1796\u001b[0m                 \u001b[0;34m'create_'\u001b[0m \u001b[0;34m+\u001b[0m \u001b[0mfrmt\u001b[0m\u001b[0;34m,\u001b[0m\u001b[0;34m\u001b[0m\u001b[0;34m\u001b[0m\u001b[0m\n\u001b[0;32m-> 1797\u001b[0;31m                 \u001b[0;32mlambda\u001b[0m \u001b[0mf\u001b[0m\u001b[0;34m=\u001b[0m\u001b[0mfrmt\u001b[0m\u001b[0;34m,\u001b[0m \u001b[0mprog\u001b[0m\u001b[0;34m=\u001b[0m\u001b[0mself\u001b[0m\u001b[0;34m.\u001b[0m\u001b[0mprog\u001b[0m\u001b[0;34m:\u001b[0m \u001b[0mself\u001b[0m\u001b[0;34m.\u001b[0m\u001b[0mcreate\u001b[0m\u001b[0;34m(\u001b[0m\u001b[0mformat\u001b[0m\u001b[0;34m=\u001b[0m\u001b[0mf\u001b[0m\u001b[0;34m,\u001b[0m \u001b[0mprog\u001b[0m\u001b[0;34m=\u001b[0m\u001b[0mprog\u001b[0m\u001b[0;34m)\u001b[0m\u001b[0;34m\u001b[0m\u001b[0;34m\u001b[0m\u001b[0m\n\u001b[0m\u001b[1;32m   1798\u001b[0m             )\n\u001b[1;32m   1799\u001b[0m             \u001b[0mf\u001b[0m \u001b[0;34m=\u001b[0m \u001b[0mself\u001b[0m\u001b[0;34m.\u001b[0m\u001b[0m__dict__\u001b[0m\u001b[0;34m[\u001b[0m\u001b[0;34m'create_'\u001b[0m \u001b[0;34m+\u001b[0m \u001b[0mfrmt\u001b[0m\u001b[0;34m]\u001b[0m\u001b[0;34m\u001b[0m\u001b[0;34m\u001b[0m\u001b[0m\n",
      "\u001b[0;32m~/opt/anaconda3/lib/python3.8/site-packages/pydotplus/graphviz.py\u001b[0m in \u001b[0;36mcreate\u001b[0;34m(self, prog, format)\u001b[0m\n\u001b[1;32m   1957\u001b[0m             \u001b[0mself\u001b[0m\u001b[0;34m.\u001b[0m\u001b[0mprogs\u001b[0m \u001b[0;34m=\u001b[0m \u001b[0mfind_graphviz\u001b[0m\u001b[0;34m(\u001b[0m\u001b[0;34m)\u001b[0m\u001b[0;34m\u001b[0m\u001b[0;34m\u001b[0m\u001b[0m\n\u001b[1;32m   1958\u001b[0m             \u001b[0;32mif\u001b[0m \u001b[0mself\u001b[0m\u001b[0;34m.\u001b[0m\u001b[0mprogs\u001b[0m \u001b[0;32mis\u001b[0m \u001b[0;32mNone\u001b[0m\u001b[0;34m:\u001b[0m\u001b[0;34m\u001b[0m\u001b[0;34m\u001b[0m\u001b[0m\n\u001b[0;32m-> 1959\u001b[0;31m                 raise InvocationException(\n\u001b[0m\u001b[1;32m   1960\u001b[0m                     'GraphViz\\'s executables not found')\n\u001b[1;32m   1961\u001b[0m \u001b[0;34m\u001b[0m\u001b[0m\n",
      "\u001b[0;31mInvocationException\u001b[0m: GraphViz's executables not found"
     ]
    }
   ],
   "source": [
    "dot_data = StringIO()\n",
    "export_graphviz(decision_tree=tree,\n",
    "               out_file=dot_data, filled=True, \n",
    "                feature_names=df.drop('Churn', axis=1).columns)\n",
    "graph = pydotplus.graph_from_dot_data(dot_data.getvalue())\n",
    "Image(value=graph.create_png())\n"
   ]
  },
  {
   "cell_type": "code",
   "execution_count": null,
   "metadata": {},
   "outputs": [],
   "source": []
  },
  {
   "cell_type": "code",
   "execution_count": null,
   "metadata": {},
   "outputs": [],
   "source": []
  }
 ],
 "metadata": {
  "kernelspec": {
   "display_name": "Python 3",
   "language": "python",
   "name": "python3"
  },
  "language_info": {
   "codemirror_mode": {
    "name": "ipython",
    "version": 3
   },
   "file_extension": ".py",
   "mimetype": "text/x-python",
   "name": "python",
   "nbconvert_exporter": "python",
   "pygments_lexer": "ipython3",
   "version": "3.8.5"
  }
 },
 "nbformat": 4,
 "nbformat_minor": 4
}
